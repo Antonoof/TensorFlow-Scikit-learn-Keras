{
  "nbformat": 4,
  "nbformat_minor": 0,
  "metadata": {
    "colab": {
      "provenance": [],
      "gpuType": "T4"
    },
    "kernelspec": {
      "name": "python3",
      "display_name": "Python 3"
    },
    "language_info": {
      "name": "python"
    },
    "accelerator": "GPU"
  },
  "cells": [
    {
      "cell_type": "code",
      "execution_count": null,
      "metadata": {
        "id": "SlUhLBtIIrsR"
      },
      "outputs": [],
      "source": [
        "import tensorflow as tf\n",
        "import keras"
      ]
    },
    {
      "cell_type": "markdown",
      "source": [
        "Генерация текста Шекспира, с использованием RNN"
      ],
      "metadata": {
        "id": "YuNLmfJXKkJS"
      }
    },
    {
      "cell_type": "code",
      "source": [
        "shakspeare_url = \"https://homl.info/shakespeare\"\n",
        "filepath = keras.utils.get_file(\"shekespeare.txt\", shakspeare_url)\n",
        "with open(filepath) as f:\n",
        "  shakespeare_text = f.read()"
      ],
      "metadata": {
        "id": "Da5zgTw9Kh5v"
      },
      "execution_count": null,
      "outputs": []
    },
    {
      "cell_type": "code",
      "source": [
        "tokenizer = tf.keras.preprocessing.text.Tokenizer(char_level=True)\n",
        "tokenizer.fit_on_texts(shakespeare_text)"
      ],
      "metadata": {
        "id": "QwVWuQadLidS"
      },
      "execution_count": null,
      "outputs": []
    },
    {
      "cell_type": "code",
      "source": [
        "print(tokenizer.texts_to_sequences(['First']))\n",
        "print(tokenizer.sequences_to_texts([[20, 6, 9, 8, 3]]))\n",
        "max_id = len(tokenizer.word_index) # количество несовпадающих символов\n",
        "dataset_size = tokenizer.document_count # общее число символов"
      ],
      "metadata": {
        "colab": {
          "base_uri": "https://localhost:8080/"
        },
        "id": "671qyPGFMhM5",
        "outputId": "3f7e92ed-b225-4fc8-92e0-7d88b93e2884"
      },
      "execution_count": null,
      "outputs": [
        {
          "output_type": "stream",
          "name": "stdout",
          "text": [
            "[[20, 6, 9, 8, 3]]\n",
            "['f i r s t']\n"
          ]
        }
      ]
    },
    {
      "cell_type": "markdown",
      "source": [
        "Получение идентификаторов от 0 до 38, -1 - чтобы уйти от 1 до 39"
      ],
      "metadata": {
        "id": "PLVrBW67NYwO"
      }
    },
    {
      "cell_type": "code",
      "source": [
        "import numpy as np\n",
        "\n",
        "[encoded] = np.array(tokenizer.texts_to_sequences([shakespeare_text])) - 1"
      ],
      "metadata": {
        "id": "5_x2GCHFNSBr"
      },
      "execution_count": null,
      "outputs": []
    },
    {
      "cell_type": "code",
      "source": [
        "train_size = dataset_size * 90 // 100 # 90% выборки\n",
        "dataset = tf.data.Dataset.from_tensor_slices(encoded[:train_size])"
      ],
      "metadata": {
        "id": "Nt_Jt9HfNyB-"
      },
      "execution_count": null,
      "outputs": []
    },
    {
      "cell_type": "code",
      "source": [
        "n_steps = 100\n",
        "window_length = n_steps + 1 # вход, сдвинутый на 1 символ вперед\n",
        "dataset = dataset.window(window_length, shift=1, drop_remainder=True) # окно смещается на 1, drop_remainder не уменьшает выборку с каждой итерацией"
      ],
      "metadata": {
        "id": "hOJjVvfSOGVi"
      },
      "execution_count": null,
      "outputs": []
    },
    {
      "cell_type": "markdown",
      "source": [
        "Разобьет по последовательностям, например:\n",
        "\n",
        "lambda ds: ds.batch(2)\n",
        "\n",
        "{{1,2}, {3,4,5,6}} -> {[1,2],[3,4],[5,6]}"
      ],
      "metadata": {
        "id": "2O5KzGbXO4Hk"
      }
    },
    {
      "cell_type": "code",
      "source": [
        "dataset = dataset.flat_map(lambda window: window.batch(window_length))"
      ],
      "metadata": {
        "id": "fn-cJz-2OsAs"
      },
      "execution_count": null,
      "outputs": []
    },
    {
      "cell_type": "code",
      "source": [
        "batch_size = 32\n",
        "dataset = dataset.shuffle(10000).batch(batch_size)\n",
        "dataset = dataset.map(lambda windows: (windows[:, :-1], windows[:, 1:]))"
      ],
      "metadata": {
        "id": "xL_pLsS-PW2u"
      },
      "execution_count": null,
      "outputs": []
    },
    {
      "cell_type": "code",
      "source": [
        "dataset = dataset.map(\n",
        "    lambda X_batch, Y_batch: (tf.one_hot(X_batch, depth=max_id), Y_batch)\n",
        ")"
      ],
      "metadata": {
        "id": "J1OgrP4AQCbc"
      },
      "execution_count": null,
      "outputs": []
    },
    {
      "cell_type": "code",
      "source": [
        "dataset = dataset.prefetch(1)"
      ],
      "metadata": {
        "id": "BEtSfN_iQS0s"
      },
      "execution_count": null,
      "outputs": []
    },
    {
      "cell_type": "code",
      "source": [
        "for X_batch, Y_batch in dataset.take(1):\n",
        "    print(X_batch.shape, Y_batch.shape)"
      ],
      "metadata": {
        "colab": {
          "base_uri": "https://localhost:8080/"
        },
        "id": "EE08hJCcVlaa",
        "outputId": "ee97bca6-20a7-47e8-a1f2-06e0672455bb"
      },
      "execution_count": null,
      "outputs": [
        {
          "output_type": "stream",
          "name": "stdout",
          "text": [
            "(32, 100, 39) (32, 100)\n"
          ]
        }
      ]
    },
    {
      "cell_type": "code",
      "source": [
        "model = keras.models.Sequential([\n",
        "    keras.layers.GRU(128, return_sequences=True, input_shape=[None, max_id],\n",
        "                     #dropout=0.2, recurrent_dropout=0.2),\n",
        "                     dropout=0.2),\n",
        "    keras.layers.GRU(128, return_sequences=True,\n",
        "                     #dropout=0.2, recurrent_dropout=0.2),\n",
        "                     dropout=0.2),\n",
        "    keras.layers.TimeDistributed(keras.layers.Dense(max_id,\n",
        "                                                    activation=\"softmax\"))\n",
        "])\n",
        "model.compile(loss=\"sparse_categorical_crossentropy\", optimizer=\"adam\")\n",
        "history = model.fit(dataset, epochs=10)"
      ],
      "metadata": {
        "id": "rN9PMSsnQkjk"
      },
      "execution_count": null,
      "outputs": []
    },
    {
      "cell_type": "markdown",
      "source": [
        "![image.png](data:image/png;base64,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)"
      ],
      "metadata": {
        "id": "Ly2UeY0Uhf1c"
      }
    },
    {
      "cell_type": "code",
      "source": [
        "def preprocess(texts):\n",
        "  X = np.array(tokenizer.texts_to_sequences(texts)) - 1\n",
        "  return tf.one_hot(X, max_id)"
      ],
      "metadata": {
        "id": "fJBYMW9uTSYM"
      },
      "execution_count": null,
      "outputs": []
    },
    {
      "cell_type": "code",
      "source": [
        "X_new = preprocess([\"How are yo\"])\n",
        "Y_pred = np.argmax(model(X_new), axis=-1)\n",
        "tokenizer.sequences_to_texts(Y_pred + 1)[0][-1]"
      ],
      "metadata": {
        "colab": {
          "base_uri": "https://localhost:8080/",
          "height": 36
        },
        "id": "ad6KPsjNTizB",
        "outputId": "a6ae9fab-aa54-44db-e4f3-47eced8d80bc"
      },
      "execution_count": null,
      "outputs": [
        {
          "output_type": "execute_result",
          "data": {
            "text/plain": [
              "'u'"
            ],
            "application/vnd.google.colaboratory.intrinsic+json": {
              "type": "string"
            }
          },
          "metadata": {},
          "execution_count": 80
        }
      ]
    },
    {
      "cell_type": "markdown",
      "source": [
        "Генерирование текста Шекспира"
      ],
      "metadata": {
        "id": "D5gQ4xjKbEh3"
      }
    },
    {
      "cell_type": "code",
      "source": [
        "def next_char(text, temperature=1):\n",
        "  X_new = preprocess([text])\n",
        "  y_proba = model.predict(X_new)[0, -1:, :]\n",
        "  rescaled_logits = tf.math.log(y_proba) / temperature\n",
        "  char_id = tf.random.categorical(rescaled_logits, num_samples=1) + 1\n",
        "  return tokenizer.sequences_to_texts(char_id.numpy())[0]\n",
        "\n",
        "def complete_text(text, n_chars=50, temperature=1):\n",
        "  for _ in range(n_chars):\n",
        "    text += next_char(text, temperature)\n",
        "  return text\n",
        "\n",
        "print(\"temperature=0.2\\n\", complete_text('t', temperature=0.2))\n",
        "print(\"temperature=1\\n\", complete_text('w', temperature=1))\n",
        "print(\"temperature=2\\n\", complete_text('w', temperature=2))"
      ],
      "metadata": {
        "id": "lWqh97fvbJ2Y"
      },
      "execution_count": null,
      "outputs": []
    },
    {
      "cell_type": "markdown",
      "source": [
        "![image.png](data:image/png;base64,iVBORw0KGgoAAAANSUhEUgAAAQUAAAAxCAYAAADTCryeAAAAAXNSR0IArs4c6QAAAARnQU1BAACxjwv8YQUAAAAJcEhZcwAADsMAAA7DAcdvqGQAAApeSURBVHhe7Z09b9vIFobfe1s1YrFuLCyghhUrB4jTWtjSqhy1jlu7Sn6B4F+QVHHruPW6kstArr1AXKlSI2AhN04hNarvPWc+yBmKXxKlXTs+D0AkJD3D0XycMzPkO/Ofd+/e/Q+CIAiG/5p/BUEQFGIUBEHwEKMgCIKHGAVBEDzEKAiC4LGZtw9nn3H9do6rk3MMzKWXRRf9y2M0/+rh01dz6d/isI/LDxEa6mSB0bcTnN+qk0JOv1yjs2tOHofofbwwJ4KwGtJTeFac4vOHNibfeuj16Pg2QfvDZ7paAhnlDsgQcJjeENPdDj6fmXuCsCI1ewpUia87aJmzGMdTdfuXOI603wOmGPY+4UKFCzEfBYjo3vRuCBxwPPo+yOuFY3vNDafxvOJilPRQuMcSjql5dOL70zvt/f10cLArnJwPlq5rrIfmdO5jHntr/5zTkZtOz+Mn6ShCpSW4X8q7KmFdOF37M/37BGFVavYULvCJvdPdVDdO5anosF1XaqSqktvrd0Dni/V7LUR072q0QOuAGxp5OATYOTR31TUdbvjYwn6/q65zQ+EKb+O8mrRxZO4pyEuGY/u8KVpv+zQ4AAbnJ3EY9qazqKM8sL5+BUqGanz6frUuO9M6CDE28SbpZI/fxL3zPBwYj8+G6/o6dVyiT7+7FTSwmFFecgzUsDnvho9A8Jvz+0o5Rbi7wOSHGARhPbY6fDgNyX9SI40r/wGdN3dUI1Xe+LsxHo/3S41wMbqJr12Mp2gE7Iu72Gs30IiO4zjZk+p7BjJOQ+tVv35Cz+1F2HSo3k1igOqwGA3jHszFx572zmchxd9CJ+t5nKbYWNjDNUIt9C+1p199XoDnRjoInLwThFXZ+pxC4n3NUXsykrv2qThLGw95bjJISVq4V7JleAjlptE2/IKewnS2IIPXUROeuuvfxU4TmP2skmN6srQ9kWGDUI/NGIW/51g0muTjfLiSt2y3eW2osr+lBj3mhj/A07yB6L0eElTmcIf89ALzv/Vpt7+fSivHm9dNb6D5u/7f6Rc7d1AC50feZF9BT2HwY0KpnGJsezpnHUQN51w1fDYi6TzluQ4xCMJm2IxRuD3HPY2n4+6ymTfg8TqPs5Nu9DUu3fF/AckQQVd2O9F28ZHG/4hw7MRZOtOu0kfG5IP+++NgouYQXC6+j4D4mdpz85zJUM156HD7s+FSuEzoeSc8n2HCqeOygiFT4ZDk1wG8CdY8rJFzh1XLhkMQqvEsVZIyey4I/x5bn1MQBOFlIUZBEAQPWWRFEAQP6SkIguAhRkEQBA8xCuodv30FKVj4DVDx62PzzUSVV63PDdalbPqVLX+UtuG8KC+D7bB9o7BmZrHGwX7v8DJ5IcZmC5X5+fAyymAbdb1OnNJTENZkgPOT3gY+WxeeG1t8+8BWOuOz4LIFQFKSY4uVOutu6zFitbMrnS4iHW+cDk7nPuajGaJIpzZ5FuP/Dv9eNtzti6XdMY6smr0zi8MMVaXRfrz+AixWZq3xpebZFJeP/oBshFkU6b9JS9Rt+lPlyeFCChdQOJWaCuWjwoxTecDl9R64UWE3XAaqLjQxMdJ9dccpg3RYe4/z+AiTJE/SZRovNGTTW1IOJXW9sAzSYe29kjirsP1Xkl5mVUdVcmdtAc2y6EcVIC8wUmRoiMyKpzAF6GUqy565MPl5R8CftvGlz4vgeN21GAyqQTmfL6vn8cIqJXHy38WNJAXHGY6TPEifF5FTPrphWMOj8z29MlVWGVUJl0Y3thsq0xblGUvRKW/i3zDdfBnYhmMNWk4eKJx8pwd761voRmvqYhzHEzpUn1DR0DPZdX21vEzX77w4q/DChg8tNBtT3DsWj2XViRw7Hy3Ous4ZZ1HG/2kqxO0TZlbmfLiHdiPRTLAOI6JzK5Bah+5vAVntRG6N2wdMFhXi5HQ1WPOxPEYulqivTyJfLxKMLbNquMHPmZa/H+5g/giEZyafeG2JLZSBhry4bTApQR83qDgv2Xi4Yj8yJLbhKVWrK9tX5aPXAalqEMrIz0s2eDZPdM9mtXU38nk1cwrxIivjUGdk1ck17kGkVI2bKvDVMAva9G6A97oiuEKwRBZujiyv91zhRkn/dN80ge9jsgqnasGZWDL+T5YB9QyOIiTy/G8jlbZKcDrvaBhaZQm9mijFLvd0TH7wYjybYvtGIUdWXQZ7j2VvN8V8kazCRNVIyaoXk4fqDUBJl4eYVkmT8c7eyk6V4bQuezTlFc2qT4oleXQZeoKPV6yynqGWRH3N8tkonM/NEJ1gjodbyjf6f0hNUUndt1AGhfzepPH4DE9muHH6x/L4vBCqX1ejAJ0V3uhk1/Ui9DobdpUuNmT7qfmT1eNM2L5RyJFVl/J16Emk9ftabhC8lFoiq47mwwoTKDweM89XB4/5CiaAYsg7k6dIJNV8VG18lNa/XPm0CWcrjY3vICCvVCEtPGaN03CN4/YEN+Z315Gor1M+tnutJjbtsKXuK7UGr1X1RLk2wMMkQGvXNswtlEERXO/I8dj84Im+VRfkUeUxzx7qZZJZ14vQvyuWyqtJ01R/ZuU4E0T7IAiCh3ynIAiChxgFQRA8xCgIguAhRkEQBA8xCoIgeIhREATBQ4zCNuDv5Tet1xeEfwgxCrXQH0XJDs/Cr4QYBUEQPOp90ejISt0PjV0Zp5JwZun8Tdj7SRsdc9/VfGvZqPqvFppUEfhwnFkac+rIu1vf61v6WSp97YkTv5aolm3B5v8ui5G5gtORr9dPp9O7l4mf/vTW/Xpr/2S9gSSf9XVPxsufSxvp9pR+Q+76AMKrpV5PQYlVtJiGG4n+vprFGkbMQhVQabqNksvfip5oRNjHjb6nvm/XQiGOq3C7+Tx42zX7LDr4+/NO3LVvIeLGz/ecZw3O7zFttLFnv1FXUl1fnp1F+Rb2eqt9dd3ZEl818Lxt6gsp2rrfKij1wdoKLRoz296FSewss3al2w0yCGw0OJy75b/weqk5fGAVmq6YLcwwC/ao4vOaB1rMUq7zdxqfatDspSpsN58Le0bzLDp8jXnOmgmq4QDtN/rvum/agLvewdrk6PWLtqkvhNKfu3W/L/hy80sZvd3QGJ1ThLspg1e0PoDwKqlpFPTCD6qyBWMMZ03sne0gWMypSWjW0/lzNzwVrsIKMutqzHm3Z91zYIMETH6Up7AWThr1UWUVoXy6/SNESNYc4N5EwgXGtgfABulxvAGDJ/zK1J5onLJs+48QGF9g8JM8btgE5iyB1Z5ndZ0/G5o1tpunvy7TmOdi5MMhGZVonvbCRay2IpGCew1529SvCS9IYvOcDbSdo7GoHbXb9My3QdLbEIQcNvL2obUb6DmEr2PMdqn7aRrmujr/tbabpyZRqjEvgJd1a1Hap2TcViF7C/sCeJi0zjb1BXAa2NDo+HgR2tQKALzkmxq0TPBQo0civA5kPQWLMyv/6/nSam9UBIHZSE/h5UONhpd128gE4zPELPlW9kZFEJhX31OIv4fgyb81lsN+1sTfQ5jvJ2ToIFRAhg+CIDgA/wdkoPS/zXEdnQAAAABJRU5ErkJggg==)\n",
        "\n",
        "![image.png](data:image/png;base64,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)\n",
        "\n",
        "\n",
        "![image.png](data:image/png;base64,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)"
      ],
      "metadata": {
        "id": "YVYP1JiThLD8"
      }
    },
    {
      "cell_type": "markdown",
      "source": [
        "# Stateful RNN (RNN с сохранением состояния)"
      ],
      "metadata": {
        "id": "8iyibUOra-4o"
      }
    },
    {
      "cell_type": "code",
      "source": [
        "tf.random.set_seed(42)"
      ],
      "metadata": {
        "id": "Idy3iJGBa-T-"
      },
      "execution_count": null,
      "outputs": []
    },
    {
      "cell_type": "code",
      "source": [
        "dataset = tf.data.Dataset.from_tensor_slices(encoded[:train_size])\n",
        "dataset = dataset.window(window_length, shift=n_steps, drop_remainder=True)\n",
        "dataset = dataset.flat_map(lambda window: window.batch(window_length))\n",
        "dataset = dataset.batch(1)\n",
        "dataset = dataset.map(lambda windows: (windows[:, :-1], windows[:, 1:]))\n",
        "dataset = dataset.map(\n",
        "    lambda X_batch, Y_batch: (tf.one_hot(X_batch, depth=max_id), Y_batch))\n",
        "dataset = dataset.prefetch(1)"
      ],
      "metadata": {
        "id": "ZjmIVdMwh5Pf"
      },
      "execution_count": null,
      "outputs": []
    },
    {
      "cell_type": "code",
      "source": [
        "batch_size = 32\n",
        "encoded_parts = np.array_split(encoded[:train_size], batch_size)\n",
        "datasets = []\n",
        "for encoded_part in encoded_parts:\n",
        "    dataset = tf.data.Dataset.from_tensor_slices(encoded_part)\n",
        "    dataset = dataset.window(window_length, shift=n_steps, drop_remainder=True)\n",
        "    dataset = dataset.flat_map(lambda window: window.batch(window_length))\n",
        "    datasets.append(dataset)\n",
        "dataset = tf.data.Dataset.zip(tuple(datasets)).map(lambda *windows: tf.stack(windows))\n",
        "dataset = dataset.map(lambda windows: (windows[:, :-1], windows[:, 1:]))\n",
        "dataset = dataset.map(\n",
        "    lambda X_batch, Y_batch: (tf.one_hot(X_batch, depth=max_id), Y_batch))\n",
        "dataset = dataset.prefetch(1)"
      ],
      "metadata": {
        "id": "ip2U-HXsh59f"
      },
      "execution_count": null,
      "outputs": []
    },
    {
      "cell_type": "code",
      "source": [
        "model = keras.models.Sequential([\n",
        "    keras.layers.GRU(128, return_sequences=True, stateful=True,\n",
        "                     #dropout=0.2, recurrent_dropout=0.2,\n",
        "                     dropout=0.2,\n",
        "                     batch_input_shape=[batch_size, None, max_id]),\n",
        "    keras.layers.GRU(128, return_sequences=True, stateful=True,\n",
        "                     #dropout=0.2, recurrent_dropout=0.2),\n",
        "                     dropout=0.2),\n",
        "    keras.layers.TimeDistributed(keras.layers.Dense(max_id,\n",
        "                                                    activation=\"softmax\"))\n",
        "])"
      ],
      "metadata": {
        "id": "DEtcIr97d5-R"
      },
      "execution_count": null,
      "outputs": []
    },
    {
      "cell_type": "code",
      "source": [
        "class ResetStatesCallback(keras.callbacks.Callback):\n",
        "  def on_epoch_begin(self, epoch, logs):\n",
        "    self.model.reset_states()"
      ],
      "metadata": {
        "id": "5FiiE5bSeqDz"
      },
      "execution_count": null,
      "outputs": []
    },
    {
      "cell_type": "code",
      "source": [
        "model.compile(loss=\"sparse_categorical_crossentropy\", optimizer=\"adam\")\n",
        "history = model.fit(dataset, epochs=50,\n",
        "                    callbacks=[ResetStatesCallback()])"
      ],
      "metadata": {
        "id": "plg5Ye70e9PU"
      },
      "execution_count": null,
      "outputs": []
    },
    {
      "cell_type": "code",
      "source": [
        "(X_train, y_train), (X_text, y_test) = keras.datasets.imdb.load_data()\n",
        "X_train[0][:10]"
      ],
      "metadata": {
        "colab": {
          "base_uri": "https://localhost:8080/"
        },
        "id": "xd2JyNcyfCTO",
        "outputId": "756b1a06-a254-40c0-d9fa-2ad1e2ad6240"
      },
      "execution_count": null,
      "outputs": [
        {
          "output_type": "stream",
          "name": "stdout",
          "text": [
            "Downloading data from https://storage.googleapis.com/tensorflow/tf-keras-datasets/imdb.npz\n",
            "\u001b[1m17464789/17464789\u001b[0m \u001b[32m━━━━━━━━━━━━━━━━━━━━\u001b[0m\u001b[37m\u001b[0m \u001b[1m0s\u001b[0m 0us/step\n"
          ]
        },
        {
          "output_type": "execute_result",
          "data": {
            "text/plain": [
              "[1, 14, 22, 16, 43, 530, 973, 1622, 1385, 65]"
            ]
          },
          "metadata": {},
          "execution_count": 99
        }
      ]
    },
    {
      "cell_type": "code",
      "source": [
        "word_index = keras.datasets.imdb.get_word_index()\n",
        "id_to_word = {id_ + 3: word for word, id_ in word_index.items()}\n",
        "for id_, token in enumerate((\"<pad>\", \"<sos>\", \"<unk>\")):\n",
        "    id_to_word[id_] = token\n",
        "\" \".join([id_to_word[id_] for id_ in X_train[0][:10]])"
      ],
      "metadata": {
        "colab": {
          "base_uri": "https://localhost:8080/",
          "height": 73
        },
        "id": "Mlp-da0ijHkY",
        "outputId": "422c5186-0dee-485d-dfde-90f4e45fe9bb"
      },
      "execution_count": null,
      "outputs": [
        {
          "output_type": "stream",
          "name": "stdout",
          "text": [
            "Downloading data from https://storage.googleapis.com/tensorflow/tf-keras-datasets/imdb_word_index.json\n",
            "\u001b[1m1641221/1641221\u001b[0m \u001b[32m━━━━━━━━━━━━━━━━━━━━\u001b[0m\u001b[37m\u001b[0m \u001b[1m0s\u001b[0m 0us/step\n"
          ]
        },
        {
          "output_type": "execute_result",
          "data": {
            "text/plain": [
              "'<sos> this film was just brilliant casting location scenery story'"
            ],
            "application/vnd.google.colaboratory.intrinsic+json": {
              "type": "string"
            }
          },
          "metadata": {},
          "execution_count": 101
        }
      ]
    }
  ]
}