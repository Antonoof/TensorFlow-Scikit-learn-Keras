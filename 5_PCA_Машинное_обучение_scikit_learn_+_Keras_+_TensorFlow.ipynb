{
  "nbformat": 4,
  "nbformat_minor": 0,
  "metadata": {
    "colab": {
      "provenance": []
    },
    "kernelspec": {
      "name": "python3",
      "display_name": "Python 3"
    },
    "language_info": {
      "name": "python"
    }
  },
  "cells": [
    {
      "cell_type": "markdown",
      "source": [
        "Понижение размерности для ускорения обучения и удаления шумов!"
      ],
      "metadata": {
        "id": "M6TjIAG2rhXr"
      }
    },
    {
      "cell_type": "markdown",
      "source": [
        "PCA, KernalPCA, MDS, Isomap, t-SNE, LDA(Перед SVM топ), UMAP, LLE\n",
        "\n",
        "инкрементный PCA, если не умещается в памяти или необходимо динамическое обучение.\n",
        "\n",
        "можно комбинировать методы, например, PCA И LLE"
      ],
      "metadata": {
        "id": "M8LTDfFQSbht"
      }
    },
    {
      "cell_type": "code",
      "execution_count": 1,
      "metadata": {
        "colab": {
          "base_uri": "https://localhost:8080/"
        },
        "id": "2qGhDuwGonqV",
        "outputId": "e704761f-ac9d-4237-e0f3-bb5da8dc342a"
      },
      "outputs": [
        {
          "output_type": "execute_result",
          "data": {
            "text/plain": [
              "array([0.92461872, 0.05306648])"
            ]
          },
          "metadata": {},
          "execution_count": 1
        }
      ],
      "source": [
        "from sklearn.datasets import load_iris\n",
        "from sklearn.decomposition import PCA\n",
        "from sklearn.model_selection import train_test_split\n",
        "import numpy as np\n",
        "\n",
        "iris = load_iris()\n",
        "\n",
        "X = iris[\"data\"]\n",
        "y = iris[\"target\"]\n",
        "\n",
        "X_train, X_test, y_train, y_test = train_test_split(X, y, test_size=0.25, random_state=42)\n",
        "\n",
        "pca = PCA(n_components=2)\n",
        "\n",
        "X2D = pca.fit_transform(X)\n",
        "\n",
        "pca.explained_variance_ratio_"
      ]
    },
    {
      "cell_type": "markdown",
      "source": [
        "92% лежит вдоль первого компонента, 5% второго и 3% остальные"
      ],
      "metadata": {
        "id": "H0LsfCW2qGNX"
      }
    },
    {
      "cell_type": "markdown",
      "source": [
        "Выбор числа измерений, который учитывает 95% дисперсии"
      ],
      "metadata": {
        "id": "MZI9x8FXqURN"
      }
    },
    {
      "cell_type": "code",
      "source": [
        "pca = PCA()\n",
        "pca.fit(X_train)\n",
        "cumsum = np.cumsum(pca.explained_variance_ratio_)\n",
        "d = np.argmax(cumsum >= 0.95) + 1\n",
        "\n",
        "pca = PCA(n_components=d)\n",
        "\n",
        "X2D = pca.fit_transform(X)\n",
        "\n",
        "pca.explained_variance_ratio_"
      ],
      "metadata": {
        "colab": {
          "base_uri": "https://localhost:8080/"
        },
        "id": "0QU3Zc5BqQxE",
        "outputId": "387f681d-9de9-4d24-fbf2-c8ac368cae59"
      },
      "execution_count": 2,
      "outputs": [
        {
          "output_type": "execute_result",
          "data": {
            "text/plain": [
              "array([0.92461872, 0.05306648])"
            ]
          },
          "metadata": {},
          "execution_count": 2
        }
      ]
    },
    {
      "cell_type": "code",
      "source": [
        "# Улучшенный код\n",
        "pca = PCA(n_components=0.95)\n",
        "X_reduced = pca.fit_transform(X)\n",
        "pca.explained_variance_ratio_"
      ],
      "metadata": {
        "colab": {
          "base_uri": "https://localhost:8080/"
        },
        "id": "boP2_y0HrFK8",
        "outputId": "fff30af8-7bf8-4a82-d45f-a221907478ff"
      },
      "execution_count": 3,
      "outputs": [
        {
          "output_type": "execute_result",
          "data": {
            "text/plain": [
              "array([0.92461872, 0.05306648])"
            ]
          },
          "metadata": {},
          "execution_count": 3
        }
      ]
    },
    {
      "cell_type": "code",
      "source": [
        "import pandas as pd\n",
        "\n",
        "data = pd.read_csv(\"sample_data/mnist_test.csv\")\n",
        "\n",
        "y = data[\"7\"].values\n",
        "X = data.drop(\"7\", axis=1).values"
      ],
      "metadata": {
        "id": "S21JXkSNsj5v"
      },
      "execution_count": 4,
      "outputs": []
    },
    {
      "cell_type": "code",
      "source": [
        "X_train, X_test, y_train, y_test = train_test_split(X, y, test_size=0.25, random_state=42)"
      ],
      "metadata": {
        "id": "OPpFh6g7vOM-"
      },
      "execution_count": 5,
      "outputs": []
    },
    {
      "cell_type": "code",
      "source": [
        "import matplotlib.pyplot as plt\n",
        "\n",
        "image_data = X_train.reshape((-1, 28, 28))\n",
        "\n",
        "image = image_data[1]\n",
        "\n",
        "plt.imshow(image, cmap='gray')\n",
        "plt.axis('off')\n",
        "plt.show()"
      ],
      "metadata": {
        "colab": {
          "base_uri": "https://localhost:8080/",
          "height": 406
        },
        "id": "FK0advLruij8",
        "outputId": "b3d51be4-383b-454b-a03c-baba46f75ba8"
      },
      "execution_count": 6,
      "outputs": [
        {
          "output_type": "display_data",
          "data": {
            "text/plain": [
              "<Figure size 640x480 with 1 Axes>"
            ],
            "image/png": "[encoded data removed]"
          },
          "metadata": {}
        }
      ]
    },
    {
      "cell_type": "code",
      "source": [
        "pca = PCA(n_components=0.95)\n",
        "\n",
        "X_reduced = pca.fit_transform(X)\n",
        "res = pca.explained_variance_ratio_\n",
        "len(res)"
      ],
      "metadata": {
        "colab": {
          "base_uri": "https://localhost:8080/"
        },
        "id": "zSVeKEURwQ4H",
        "outputId": "b4ba3b33-5361-42e9-8f87-6176b781ee82"
      },
      "execution_count": 7,
      "outputs": [
        {
          "output_type": "execute_result",
          "data": {
            "text/plain": [
              "149"
            ]
          },
          "metadata": {},
          "execution_count": 7
        }
      ]
    },
    {
      "cell_type": "code",
      "source": [
        "pca = PCA(n_components=150)\n",
        "\n",
        "X_reduced = pca.fit_transform(X)\n",
        "X_recovered = pca.inverse_transform(X_reduced)\n",
        "\n",
        "print(X_reduced.shape)\n",
        "print(X_recovered.shape)"
      ],
      "metadata": {
        "colab": {
          "base_uri": "https://localhost:8080/"
        },
        "id": "AtwNfGSywyF_",
        "outputId": "5dd3d89b-0126-4e8b-a580-89f9987a6c77"
      },
      "execution_count": 8,
      "outputs": [
        {
          "output_type": "stream",
          "name": "stdout",
          "text": [
            "(9999, 150)\n",
            "(9999, 784)\n"
          ]
        }
      ]
    },
    {
      "cell_type": "markdown",
      "source": [
        "Стохастический алгоритм"
      ],
      "metadata": {
        "id": "Re9y8uch6KrP"
      }
    },
    {
      "cell_type": "code",
      "source": [
        "pca = PCA(n_components=150, svd_solver=\"randomized\") # full\n",
        "\n",
        "X_reduced = pca.fit_transform(X)"
      ],
      "metadata": {
        "id": "SjysqXT150A0"
      },
      "execution_count": 9,
      "outputs": []
    },
    {
      "cell_type": "markdown",
      "source": [
        "Incremental PCA. использует мини-пакеты"
      ],
      "metadata": {
        "id": "TmmALU2D6yxc"
      }
    },
    {
      "cell_type": "code",
      "source": [
        "from sklearn.decomposition import IncrementalPCA\n",
        "\n",
        "n_batches = 100\n",
        "inc_pca = IncrementalPCA(n_components=74)\n",
        "for X_batch in np.array_split(X_train, n_batches):\n",
        "  inc_pca.partial_fit(X_batch)\n",
        "\n",
        "X_reduced = inc_pca.transform(X)"
      ],
      "metadata": {
        "id": "OXfZ7hRW571H"
      },
      "execution_count": 10,
      "outputs": []
    },
    {
      "cell_type": "code",
      "source": [
        "from sklearn.decomposition import KernelPCA\n",
        "\n",
        "rbf_pca = KernelPCA(n_components=2, kernel=\"rbf\", gamma=0.04)\n",
        "\n",
        "X_reduced = rbf_pca.fit_transform(X)"
      ],
      "metadata": {
        "id": "4xfeXMJF8Hz_"
      },
      "execution_count": 11,
      "outputs": []
    },
    {
      "cell_type": "code",
      "source": [
        "from sklearn.model_selection import GridSearchCV\n",
        "from sklearn.linear_model import LogisticRegression\n",
        "from sklearn.pipeline import Pipeline\n",
        "\n",
        "clf = Pipeline([\n",
        "    ('kpca', KernelPCA(n_components=2)),\n",
        "    ('log_reg', LogisticRegression())\n",
        "])\n",
        "param_grid = {\n",
        "    \"kpca__gamma\": np.linspace(0.03,0.05,10),\n",
        "    \"kpca__kernel\": [\"rbf\", \"sigmoid\"]\n",
        "}\n",
        "grid_search = GridSearchCV(clf, param_grid, cv=3)\n",
        "grid_search.fit(X, y)\n",
        "print(grid_search.best_params_)"
      ],
      "metadata": {
        "colab": {
          "base_uri": "https://localhost:8080/"
        },
        "id": "QixNnrO79wJo",
        "outputId": "8ca8e7d2-0688-4e4f-b104-71ea2a024314"
      },
      "execution_count": 12,
      "outputs": [
        {
          "output_type": "stream",
          "name": "stdout",
          "text": [
            "{'kpca__gamma': 0.03, 'kpca__kernel': 'rbf'}\n"
          ]
        }
      ]
    },
    {
      "cell_type": "code",
      "source": [
        "rbf_pca = KernelPCA(n_components=2, kernel=\"rbf\", gamma=0.433, fit_inverse_transform=True)\n",
        "\n",
        "X_reduced = rbf_pca.fit_transform(X)\n",
        "X_preimage = rbf_pca.inverse_transform(X_reduced)"
      ],
      "metadata": {
        "id": "rNMMVyYw-17D"
      },
      "execution_count": 13,
      "outputs": []
    },
    {
      "cell_type": "code",
      "source": [
        "from sklearn.metrics import mean_squared_error\n",
        "\n",
        "mean_squared_error(X, X_preimage)"
      ],
      "metadata": {
        "colab": {
          "base_uri": "https://localhost:8080/"
        },
        "id": "CK8jd2xNPnaS",
        "outputId": "c444b4c3-c9e9-498f-a9b6-7430df164788"
      },
      "execution_count": 14,
      "outputs": [
        {
          "output_type": "execute_result",
          "data": {
            "text/plain": [
              "4382.446716234237"
            ]
          },
          "metadata": {},
          "execution_count": 14
        }
      ]
    },
    {
      "cell_type": "code",
      "source": [
        "from sklearn.manifold import LocallyLinearEmbedding\n",
        "\n",
        "lle = LocallyLinearEmbedding(n_components=2, n_neighbors=10)\n",
        "\n",
        "X_reduced = lle.fit_transform(X)"
      ],
      "metadata": {
        "id": "tfWUQTKjQLle"
      },
      "execution_count": 16,
      "outputs": []
    }
  ]
}